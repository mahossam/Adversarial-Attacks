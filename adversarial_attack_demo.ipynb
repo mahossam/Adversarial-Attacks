{
 "cells": [
  {
   "metadata": {},
   "cell_type": "markdown",
   "source": "### Prepare the data and a pretrained MNIST model",
   "id": "6fbf494c86a94fc1"
  },
  {
   "cell_type": "code",
   "id": "initial_id",
   "metadata": {
    "collapsed": true,
    "ExecuteTime": {
     "end_time": "2025-01-11T21:18:32.907392Z",
     "start_time": "2025-01-11T21:18:32.899356Z"
    }
   },
   "source": [
    "import torch\n",
    "from torchvision import datasets, transforms\n",
    "import matplotlib.pyplot as plt\n",
    "\n",
    "from AdversarialAttack import FGSMTargeted\n",
    "from models.mnist_model import Net\n",
    "\n",
    "\n",
    "pretrained_model = \"models/lenet_mnist_model.pth\"\n",
    "use_cuda= False  # Set this to True to use CUDA if available\n",
    "torch.manual_seed(42)\n",
    "\n",
    "cuda_available = torch.cuda.is_available()\n",
    "if use_cuda:\n",
    "    print(\"CUDA Available: \", cuda_available)\n",
    "device = torch.device(\"cuda\" if use_cuda and cuda_available else \"cpu\")\n",
    "\n",
    "print(\"Device: \", device)"
   ],
   "outputs": [
    {
     "name": "stdout",
     "output_type": "stream",
     "text": [
      "Device:  cpu\n"
     ]
    }
   ],
   "execution_count": 223
  },
  {
   "metadata": {
    "ExecuteTime": {
     "end_time": "2025-01-11T21:18:32.926650Z",
     "start_time": "2025-01-11T21:18:32.920984Z"
    }
   },
   "cell_type": "code",
   "source": [
    "# Define MNIST test set dataloader\n",
    "test_loader = torch.utils.data.DataLoader(\n",
    "    datasets.MNIST('../data', train=False, download=True, transform=transforms.Compose([\n",
    "            transforms.ToTensor(),])), batch_size=1)"
   ],
   "id": "3e360d4b7e3e42b0",
   "outputs": [],
   "execution_count": 224
  },
  {
   "metadata": {},
   "cell_type": "markdown",
   "source": "Load the pretrained MNIST model (could be any PyTorch model):\n",
   "id": "85ec24213548380e"
  },
  {
   "metadata": {
    "ExecuteTime": {
     "end_time": "2025-01-11T21:18:32.946977Z",
     "start_time": "2025-01-11T21:18:32.939131Z"
    }
   },
   "cell_type": "code",
   "source": [
    "\n",
    "model = Net().to(device)\n",
    "model.load_state_dict(torch.load(pretrained_model, map_location=device, weights_only=True))\n",
    "\n",
    "# Set the model in evaluation mode for the Dropout layers\n",
    "model.eval()"
   ],
   "id": "cc3d4d3004881db7",
   "outputs": [
    {
     "data": {
      "text/plain": [
       "Net(\n",
       "  (conv1): Conv2d(1, 32, kernel_size=(3, 3), stride=(1, 1))\n",
       "  (conv2): Conv2d(32, 64, kernel_size=(3, 3), stride=(1, 1))\n",
       "  (dropout1): Dropout(p=0.25, inplace=False)\n",
       "  (dropout2): Dropout(p=0.5, inplace=False)\n",
       "  (fc1): Linear(in_features=9216, out_features=128, bias=True)\n",
       "  (fc2): Linear(in_features=128, out_features=10, bias=True)\n",
       ")"
      ]
     },
     "execution_count": 225,
     "metadata": {},
     "output_type": "execute_result"
    }
   ],
   "execution_count": 225
  },
  {
   "metadata": {},
   "cell_type": "markdown",
   "source": "### Use FGSMAttack class to perform a targeted adversarial attack",
   "id": "79d574798ba946eb"
  },
  {
   "metadata": {
    "ExecuteTime": {
     "end_time": "2025-01-11T21:18:32.960652Z",
     "start_time": "2025-01-11T21:18:32.958431Z"
    }
   },
   "cell_type": "code",
   "source": [
    "# Define any target class for the attack\n",
    "target_class = 8"
   ],
   "id": "dc6fab26dff61dd4",
   "outputs": [],
   "execution_count": 226
  },
  {
   "metadata": {
    "ExecuteTime": {
     "end_time": "2025-01-11T21:18:32.971808Z",
     "start_time": "2025-01-11T21:18:32.970411Z"
    }
   },
   "cell_type": "code",
   "source": [
    "# Create an instance of the FGSMTargeted attack class\n",
    "fgsm = FGSMTargeted(model, device)\n"
   ],
   "id": "2487aa02f8bbcc7d",
   "outputs": [],
   "execution_count": 227
  },
  {
   "metadata": {
    "ExecuteTime": {
     "end_time": "2025-01-11T21:18:33.236101Z",
     "start_time": "2025-01-11T21:18:32.983004Z"
    }
   },
   "cell_type": "code",
   "source": [
    "# Apply the attack to first 50 sample images from the test dataset.\n",
    "adversarial_examples = []\n",
    "for batch_idx, (data, label) in enumerate(test_loader):\n",
    "    if batch_idx >= 50:\n",
    "        break\n",
    "    perturbed_data, attack_is_successful, adv_pred, attack_epsilon = fgsm.generate_adv_example(data, target_class)\n",
    "    if attack_is_successful:\n",
    "        adversarial_examples.append((perturbed_data, label, adv_pred, attack_epsilon))\n",
    "\n",
    "# Draw the adversarial examples\n",
    "fig, axes = plt.subplots(1, len(adversarial_examples), figsize=(3*len(adversarial_examples), 3))\n",
    "axes = axes.flatten()\n",
    "for i, (perturbed_data, label, adv_pred, attack_epsilon) in enumerate(adversarial_examples):\n",
    "    axes[i].imshow(perturbed_data.squeeze().detach().cpu().numpy(), cmap='gray')\n",
    "    axes[i].set_title(f\"{label.item()} -> {adv_pred.item()}.  epsilon: {attack_epsilon}\")\n",
    "    axes[i].axis('off')\n",
    "\n",
    "# plt.tight_layout()\n",
    "plt.show()\n"
   ],
   "id": "dbfa4e5a1f9375bd",
   "outputs": [
    {
     "data": {
      "text/plain": [
       "<Figure size 1500x300 with 5 Axes>"
      ],
      "image/png": "[encoded data removed]"
     },
     "metadata": {},
     "output_type": "display_data"
    }
   ],
   "execution_count": 228
  }
 ],
 "metadata": {
  "kernelspec": {
   "display_name": "Python 3",
   "language": "python",
   "name": "python3"
  },
  "language_info": {
   "codemirror_mode": {
    "name": "ipython",
    "version": 2
   },
   "file_extension": ".py",
   "mimetype": "text/x-python",
   "name": "python",
   "nbconvert_exporter": "python",
   "pygments_lexer": "ipython2",
   "version": "2.7.6"
  }
 },
 "nbformat": 4,
 "nbformat_minor": 5
}
